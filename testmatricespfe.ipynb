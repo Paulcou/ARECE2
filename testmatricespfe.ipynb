{
  "nbformat": 4,
  "nbformat_minor": 0,
  "metadata": {
    "colab": {
      "name": "testmatricespfe.ipynb",
      "provenance": [],
      "collapsed_sections": []
    },
    "kernelspec": {
      "name": "python3",
      "display_name": "Python 3"
    },
    "language_info": {
      "name": "python"
    }
  },
  "cells": [
    {
      "cell_type": "code",
      "source": [
        "####"
      ],
      "metadata": {
        "id": "MH0QztMwzvql"
      },
      "execution_count": null,
      "outputs": []
    },
    {
      "cell_type": "code",
      "source": [
        "import numpy as np\n",
        "from matplotlib import pyplot as plt\n",
        "from matplotlib.colors import ListedColormap\n",
        "\n",
        "from sklearn import linear_model"
      ],
      "metadata": {
        "id": "HS4Zh9HfzwnH"
      },
      "execution_count": 1,
      "outputs": []
    },
    {
      "cell_type": "code",
      "source": [
        "x = np.array([150, 225, 225, 75, 150, 225, 75])\n",
        "print(x)"
      ],
      "metadata": {
        "colab": {
          "base_uri": "https://localhost:8080/"
        },
        "id": "vBSjlxbZzx6F",
        "outputId": "f04258bd-3591-42d3-dd34-21fd5c002790"
      },
      "execution_count": 2,
      "outputs": [
        {
          "output_type": "stream",
          "name": "stdout",
          "text": [
            "[150 225 225  75 150 225  75]\n"
          ]
        }
      ]
    },
    {
      "cell_type": "code",
      "source": [
        "y = np.array([0, 0, 225, 37, 75, 150, 150])\n",
        "print(y)"
      ],
      "metadata": {
        "colab": {
          "base_uri": "https://localhost:8080/"
        },
        "id": "bpwxg8wczx8z",
        "outputId": "eff758bb-7e21-4aa0-a3c5-47d23f41ceab"
      },
      "execution_count": 3,
      "outputs": [
        {
          "output_type": "stream",
          "name": "stdout",
          "text": [
            "[  0   0 225  37  75 150 150]\n"
          ]
        }
      ]
    },
    {
      "cell_type": "code",
      "source": [
        "x_test = np.linspace(75, 200 , 5)\n",
        "print(x_test)"
      ],
      "metadata": {
        "colab": {
          "base_uri": "https://localhost:8080/"
        },
        "id": "ICJVstvi1d-H",
        "outputId": "cf3e0e86-bed1-4a37-a9b3-340935c384ef"
      },
      "execution_count": 4,
      "outputs": [
        {
          "output_type": "stream",
          "name": "stdout",
          "text": [
            "[ 75.   106.25 137.5  168.75 200.  ]\n"
          ]
        }
      ]
    },
    {
      "cell_type": "code",
      "source": [
        "plt.figure(figsize=(6, 4))\n",
        "plt.scatter(x, y, s=4)"
      ],
      "metadata": {
        "colab": {
          "base_uri": "https://localhost:8080/",
          "height": 283
        },
        "id": "2JZ_mvFTzx_g",
        "outputId": "702b3cfb-c1dd-42ed-e47b-3c2367c2459a"
      },
      "execution_count": 5,
      "outputs": [
        {
          "output_type": "execute_result",
          "data": {
            "text/plain": [
              "<matplotlib.collections.PathCollection at 0x7f916c067350>"
            ]
          },
          "metadata": {},
          "execution_count": 5
        },
        {
          "output_type": "display_data",
          "data": {
            "text/plain": [
              "<Figure size 432x288 with 1 Axes>"
            ],
            "image/png": "[encoded data removed]"
          },
          "metadata": {
            "needs_background": "light"
          }
        }
      ]
    },
    {
      "cell_type": "code",
      "source": [
        "plt.figure(figsize=(6, 4))\n",
        "plt.scatter(x, y, s=20)\n",
        "\n",
        "X = np.array([x**i for i in range(5)]).T\n",
        "X_test = np.array([x_test**i for i in range(5)]).T\n",
        "regr = linear_model.LinearRegression()\n",
        "regr.fit(X, y)\n",
        "#plt.plot(x_test, regr.predict(X_test), label='ordre 4')\n",
        "plt.plot(x_test, regr.predict(X_test), label='trajectoire optimale')\n",
        "\n",
        "plt.legend(loc='best')\n",
        "plt.axis('tight')\n",
        "plt.title(\"Détermination d'une trajectoire optimisée par la méthode de régression linéaire\")"
      ],
      "metadata": {
        "colab": {
          "base_uri": "https://localhost:8080/",
          "height": 299
        },
        "id": "aKSRAYQBzyCY",
        "outputId": "fe376bfb-22bb-401f-9200-9153b7249480"
      },
      "execution_count": 6,
      "outputs": [
        {
          "output_type": "execute_result",
          "data": {
            "text/plain": [
              "Text(0.5, 1.0, \"Détermination d'une trajectoire optimisée par la méthode de régression linéaire\")"
            ]
          },
          "metadata": {},
          "execution_count": 6
        },
        {
          "output_type": "display_data",
          "data": {
            "text/plain": [
              "<Figure size 432x288 with 1 Axes>"
            ],
            "image/png": "[encoded data removed]"
          },
          "metadata": {
            "needs_background": "light"
          }
        }
      ]
    },
    {
      "cell_type": "code",
      "source": [
        "plt.figure(figsize=(6, 4))\n",
        "plt.scatter (x, y, c = 'blue', marker = '*', s=30) #s joue sur le zoom\n",
        "\n",
        "X = np.array([x**i for i in range(3)]).T\n",
        "X_test = np.array([x_test**i for i in range(3)]).T\n",
        "regr = linear_model.LinearRegression()\n",
        "regr.fit(X, y)\n",
        "plt.plot(x_test, regr.predict(X_test), label='trajectoire optimale', c='green')\n",
        "\n",
        "plt.legend(loc='best')\n",
        "plt.axis('tight')\n",
        "plt.title(\"Détermination d'une trajectoire optimisée par la méthode de régression linéaire\")"
      ],
      "metadata": {
        "colab": {
          "base_uri": "https://localhost:8080/",
          "height": 299
        },
        "id": "9dVlmjIgzyE1",
        "outputId": "05140af2-aa2e-4c95-e213-519f9495186e"
      },
      "execution_count": 7,
      "outputs": [
        {
          "output_type": "execute_result",
          "data": {
            "text/plain": [
              "Text(0.5, 1.0, \"Détermination d'une trajectoire optimisée par la méthode de régression linéaire\")"
            ]
          },
          "metadata": {},
          "execution_count": 7
        },
        {
          "output_type": "display_data",
          "data": {
            "text/plain": [
              "<Figure size 432x288 with 1 Axes>"
            ],
            "image/png": "[encoded data removed]"
          },
          "metadata": {
            "needs_background": "light"
          }
        }
      ]
    }
  ]
}